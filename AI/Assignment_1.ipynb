{
  "cells": [
    {
      "cell_type": "markdown",
      "metadata": {
        "id": "Hs3-rqQLaMOs"
      },
      "source": [
        "**Grand Assignment**"
      ]
    },
    {
      "cell_type": "markdown",
      "metadata": {
        "id": "yoFPv_Hcb3Iv"
      },
      "source": [
        "***Variables and Strings***"
      ]
    },
    {
      "cell_type": "markdown",
      "metadata": {
        "id": "XLAWmJh_b9vr"
      },
      "source": [
        "*1.**Simple Message:** Assign a message to a variable, and then print that\n",
        "message.* "
      ]
    },
    {
      "cell_type": "code",
      "execution_count": 1,
      "metadata": {
        "id": "Xu9FoVk1aKtu",
        "colab": {
          "base_uri": "https://localhost:8080/"
        },
        "outputId": "33c987f6-fda1-4b93-9d8e-ad8a3c074179"
      },
      "outputs": [
        {
          "output_type": "stream",
          "name": "stdout",
          "text": [
            "This is message\n"
          ]
        }
      ],
      "source": [
        "message = \"This is message\"\n",
        "print(message)"
      ]
    },
    {
      "cell_type": "markdown",
      "metadata": {
        "id": "Ckp41qGzcMhY"
      },
      "source": [
        "2.Find a quote from a famous person you admire. Print the\n",
        "quote and the name of its author. Your output should look something like the\n",
        "following, including the quotation marks:\n",
        "\n",
        "**Albert Einstein once said, “A person who never made a\n",
        "mistake never tried anything new.”**\n"
      ]
    },
    {
      "cell_type": "code",
      "execution_count": 4,
      "metadata": {
        "id": "RAOYKTZDc9l5",
        "colab": {
          "base_uri": "https://localhost:8080/"
        },
        "outputId": "fe1571ea-ac3e-41c2-f8f7-ffd749e9d726"
      },
      "outputs": [
        {
          "output_type": "stream",
          "name": "stdout",
          "text": [
            "Tony stark once said, “Sometimes you gotta run before you can walk”.\n"
          ]
        }
      ],
      "source": [
        "print('Tony stark once said, “Sometimes you gotta run before you can walk”.')"
      ]
    },
    {
      "cell_type": "markdown",
      "metadata": {
        "id": "5dsWBIrAduRU"
      },
      "source": [
        "*3. Use a variable to represent your favorite number. Then,\n",
        "using that variable, create a message that reveals your favorite number. Print\n",
        "that message*"
      ]
    },
    {
      "cell_type": "code",
      "execution_count": 7,
      "metadata": {
        "id": "n5bKUt2Xdxet",
        "colab": {
          "base_uri": "https://localhost:8080/"
        },
        "outputId": "fab2a19f-114e-4dd3-f1a0-6cfb519ade96"
      },
      "outputs": [
        {
          "output_type": "stream",
          "name": "stdout",
          "text": [
            "This is my favorite number 7\n"
          ]
        }
      ],
      "source": [
        "favorite_number = 7\n",
        "message = \"This is my favorite number\"+\" \"+str(favorite_number)\n",
        "print(message)"
      ]
    },
    {
      "cell_type": "markdown",
      "metadata": {
        "id": "03-7JmJFh1gu"
      },
      "source": [
        "4. **Calculate Area of a Circle::**\n",
        "\n",
        "Write a Python program which accepts the radius of a circle from the user and compute the area.\n",
        "\n",
        "Program Console Sample Output 1:\n",
        "\n",
        "Input Radius: 0.5\n",
        "\n",
        "Area of Circle with radius 0.5 is 0.7853981634"
      ]
    },
    {
      "cell_type": "code",
      "execution_count": 14,
      "metadata": {
        "id": "ZQqUhli7iD8V",
        "colab": {
          "base_uri": "https://localhost:8080/"
        },
        "outputId": "dca65d0a-8fb5-4f50-c83a-e7156154378a"
      },
      "outputs": [
        {
          "output_type": "stream",
          "name": "stdout",
          "text": [
            "Input Radius: .5\n",
            "Area of Circle with radius 0.5 is 0.7853981633974483\n"
          ]
        }
      ],
      "source": [
        "radius = float(input('Input Radius: '))\n",
        "area = 3.141592653589793238 * radius**2\n",
        "print(\"Area of Circle with radius \"+str(radius)+\" is \"+str(area))"
      ]
    },
    {
      "cell_type": "markdown",
      "metadata": {
        "id": "_52LUHoriEdK"
      },
      "source": [
        "5. **Check Number either positive, negative or zero::**\n",
        "\n",
        "Write a Python program to check if a number is positive, \n",
        "\n",
        "negative or zero\n",
        "\n",
        "Program Console Sample Output 1:\n",
        "\n",
        "Enter Number: -1\n",
        "\n",
        "Negative Number Entered\n",
        "\n",
        "Program Console Sample Output 2:\n",
        "\n",
        "Integer: 3\n",
        "\n",
        "Positive Number Entered\n",
        "\n",
        "Program Console Sample Output 3:\n",
        "\n",
        "Integer: 0\n",
        "\n",
        "Zero Entered"
      ]
    },
    {
      "cell_type": "code",
      "execution_count": 19,
      "metadata": {
        "id": "_yLJAc80iXk0",
        "colab": {
          "base_uri": "https://localhost:8080/"
        },
        "outputId": "00da7b42-eeb5-43c9-f8d1-1ecd5d0219ba"
      },
      "outputs": [
        {
          "output_type": "stream",
          "name": "stdout",
          "text": [
            "Enter the number 3\n",
            "Positive Number Entered \n"
          ]
        }
      ],
      "source": [
        "num = int(input(\"Enter the number \"))\n",
        "if num < 0:\n",
        "    print(\"Negative Number Entered \")\n",
        "elif num > 0 :\n",
        "     print(\"Positive Number Entered \")\n",
        "else:\n",
        "     print(\"Zero Entered\")"
      ]
    },
    {
      "cell_type": "markdown",
      "metadata": {
        "id": "vjXA6uhpiYQX"
      },
      "source": [
        "6. **Vowel Tester**\n",
        "Write a Python program to test whether a passed letter is a vowel or not\n",
        "\n",
        "Program Console Output 1:\n",
        "\n",
        "Enter a character: A\n",
        "\n",
        "Letter A is Vowel\n",
        "\n",
        "Program Console Output 2:\n",
        "\n",
        "Enter a character: e\n",
        "\n",
        "Letter e is Vowel\n",
        "\n",
        "Program Console Output 2:\n",
        "\n",
        "Enter a character: N\n",
        "\n",
        "Letter N is not Vowel."
      ]
    },
    {
      "cell_type": "code",
      "execution_count": 49,
      "metadata": {
        "id": "L62zqtG1jEb9",
        "colab": {
          "base_uri": "https://localhost:8080/"
        },
        "outputId": "2e08107c-66ee-411d-88fb-d5feb280f7fa"
      },
      "outputs": [
        {
          "output_type": "stream",
          "name": "stdout",
          "text": [
            "Enter a character A\n",
            "Letter A is Vowel\n"
          ]
        }
      ],
      "source": [
        "character = input(\"Enter a character \")\n",
        "vowels = ['A','a','E','e','I','i','O','o','U','u']\n",
        "if character in vowels:\n",
        "  print(\"Letter \"+character+\" is Vowel\")\n",
        "else:\n",
        "  print(\"Letter \"+character+\" is not Vowel\")"
      ]
    },
    {
      "cell_type": "markdown",
      "metadata": {
        "id": "qZIGjsnDjFdk"
      },
      "source": [
        "7. **BMI Calculator**\n",
        "\n",
        "Write a Python program to calculate body mass index\n",
        "Program Console Sample 1:\n",
        "\n",
        "Enter Height in Cm: 180\n",
        "\n",
        "Enter Weight in Kg: 75\n",
        "\n",
        "Your BMI is 23.15"
      ]
    },
    {
      "cell_type": "code",
      "execution_count": 27,
      "metadata": {
        "id": "lE-JyyTnjcJU",
        "colab": {
          "base_uri": "https://localhost:8080/"
        },
        "outputId": "930d6e90-e60b-408f-f4ef-bd79acc52d25"
      },
      "outputs": [
        {
          "output_type": "stream",
          "name": "stdout",
          "text": [
            "Enter Height in Cm: 180\n",
            "Enter Weight in Kg: 75\n",
            "Your BMI is 23.15\n"
          ]
        }
      ],
      "source": [
        "height = float(input(\"Enter Height in Cm: \"))\n",
        "weight = float(input(\"Enter Weight in Kg: \"))\n",
        "bmi = weight/((height/100)*(height/100))\n",
        "print(\"Your BMI is \"+str(round(bmi, 2)))"
      ]
    },
    {
      "cell_type": "markdown",
      "metadata": {
        "id": "11fYzZYid3qq"
      },
      "source": [
        "**List::**"
      ]
    },
    {
      "cell_type": "markdown",
      "metadata": {
        "id": "oUNnrKdyeOks"
      },
      "source": [
        "8. **Store the names of a few of your friends in a list called names**\n",
        "\n",
        " Print each person’s name by accessing each element in the list, one at a time."
      ]
    },
    {
      "cell_type": "code",
      "execution_count": 28,
      "metadata": {
        "id": "RY49qmHQeOGB",
        "colab": {
          "base_uri": "https://localhost:8080/"
        },
        "outputId": "40cdd588-6ecb-4e9b-bbbc-977333e8e215"
      },
      "outputs": [
        {
          "output_type": "stream",
          "name": "stdout",
          "text": [
            "Baber\n",
            "Shahzib\n",
            "Arif\n"
          ]
        }
      ],
      "source": [
        "names = [\"Baber\",\"Shahzib\",\"Arif\"]\n",
        "print(names[0])\n",
        "print(names[1])\n",
        "print(names[2])"
      ]
    },
    {
      "cell_type": "markdown",
      "metadata": {
        "id": "HQe4CmBLd0a0"
      },
      "source": [
        "9. Start with the list you used in Question 4, but instead of just  printing each person’s name, print a message to them. The text of each message should be the same, but each message should be personalized with the\n",
        "person’s name."
      ]
    },
    {
      "cell_type": "code",
      "execution_count": 31,
      "metadata": {
        "id": "QfaA6SZieroG",
        "colab": {
          "base_uri": "https://localhost:8080/"
        },
        "outputId": "faad3bae-42fd-42f5-ca10-5323cf0db0eb"
      },
      "outputs": [
        {
          "output_type": "stream",
          "name": "stdout",
          "text": [
            "Baber is your shop open ?\n",
            "Shahzib call me when you are available\n",
            "Arif whats up ?\n"
          ]
        }
      ],
      "source": [
        "print(names[0]+\" is your shop open ?\")\n",
        "print(names[1]+\" call me when you are available\")\n",
        "print(names[2]+\" whats up ?\")"
      ]
    },
    {
      "cell_type": "markdown",
      "metadata": {
        "id": "3t-zoTSTesyI"
      },
      "source": [
        " 10.**Make a python program that conatains your nine favourite dishes in a list called foods.**\n",
        "Print the message, The first three items in the list are:\n",
        "\n",
        "Then use a slice to print the first three items from that program’s list.\n",
        "\n",
        "Print the message, Three items from the middle of the list are:\n",
        "\n",
        "Use a slice to print three items from the middle of the list.\n",
        "\n",
        "Print the message, The last three items in the list are:\n",
        "\n",
        "Use a slice to print the last three items in the list."
      ]
    },
    {
      "cell_type": "code",
      "execution_count": 45,
      "metadata": {
        "id": "ZpnPQbgAmQhu",
        "colab": {
          "base_uri": "https://localhost:8080/"
        },
        "outputId": "2447fbef-85a0-41f8-961b-1096acf191f7"
      },
      "outputs": [
        {
          "output_type": "stream",
          "name": "stdout",
          "text": [
            "The first three items in the list are: :\n",
            "['pulao', 'zinger', 'chinese']\n",
            "Three items from the middle of the list are:\n",
            "['briyani', 'bbq fish', 'handi']\n",
            "The last three items in the list are:\n",
            "['karahi', 'qeema fry', 'roll']\n"
          ]
        }
      ],
      "source": [
        "foods = [\"pulao\",\"zinger\",\"chinese\",\"briyani\",\"bbq fish\",\"handi\",\"karahi\",\"qeema fry\",\"roll\"]\n",
        "print(\"The first three items in the list are: :\")\n",
        "print(foods[:3])\n",
        "print(\"Three items from the middle of the list are:\")\n",
        "print(foods[3:6])\n",
        "print(\"The last three items in the list are:\")\n",
        "print(foods[-3:])"
      ]
    },
    {
      "cell_type": "markdown",
      "metadata": {
        "id": "h37WaaZKmRMe"
      },
      "source": [
        "11. **Start with your program from your last Question8.**\n",
        "Make a copy of the list of foods, and call it friend_foods.\n",
        "Then, do the following:\n",
        "\n",
        "Add a new dish to the original list.\n",
        "\n",
        "Add a different dish to the list friend_foods.\n",
        "\n",
        "Prove that you have two separate lists.\n",
        "\n",
        "Print the message, My favorite pizzas are: and then use a for loop to print the first list.\n",
        "\n",
        "Print the message,\n",
        "\n",
        "My friend’s favorite foods are:, and then use a for loop to print the second list.\n",
        "\n",
        "NOTE: Make sure each new dish is stored in the appropriate list."
      ]
    },
    {
      "cell_type": "code",
      "execution_count": 46,
      "metadata": {
        "id": "6FvxV2CioBQB",
        "colab": {
          "base_uri": "https://localhost:8080/"
        },
        "outputId": "c5d49b27-b058-419b-caa3-6615709409e1"
      },
      "outputs": [
        {
          "output_type": "stream",
          "name": "stdout",
          "text": [
            "Prove False\n"
          ]
        }
      ],
      "source": [
        "friend_foods = foods.copy()\n",
        "foods.append('pizza')\n",
        "friend_foods.append('fired checken')\n",
        "print(\"Prove \"+ str(foods == friend_foods))\n"
      ]
    },
    {
      "cell_type": "code",
      "source": [
        "for food in foods:\n",
        "  print(\"My favorite foods are \"+ food)"
      ],
      "metadata": {
        "colab": {
          "base_uri": "https://localhost:8080/"
        },
        "id": "VD4QkWhFx7qP",
        "outputId": "26e2bc7e-9f8d-4301-9a63-abfd99afa686"
      },
      "execution_count": 47,
      "outputs": [
        {
          "output_type": "stream",
          "name": "stdout",
          "text": [
            "My favorite foods are pulao\n",
            "My favorite foods are zinger\n",
            "My favorite foods are chinese\n",
            "My favorite foods are briyani\n",
            "My favorite foods are bbq fish\n",
            "My favorite foods are handi\n",
            "My favorite foods are karahi\n",
            "My favorite foods are qeema fry\n",
            "My favorite foods are roll\n",
            "My favorite foods are pizza\n"
          ]
        }
      ]
    },
    {
      "cell_type": "code",
      "source": [
        "for food in friend_foods:\n",
        "  print(\"My friend’s favorite foods are \"+ food)"
      ],
      "metadata": {
        "colab": {
          "base_uri": "https://localhost:8080/"
        },
        "id": "xJsK5yM3zkaj",
        "outputId": "b832ea2e-ad1f-485b-9619-d103f8aea682"
      },
      "execution_count": 48,
      "outputs": [
        {
          "output_type": "stream",
          "name": "stdout",
          "text": [
            "My friend’s favorite foods are pulao\n",
            "My friend’s favorite foods are zinger\n",
            "My friend’s favorite foods are chinese\n",
            "My friend’s favorite foods are briyani\n",
            "My friend’s favorite foods are bbq fish\n",
            "My friend’s favorite foods are handi\n",
            "My friend’s favorite foods are karahi\n",
            "My friend’s favorite foods are qeema fry\n",
            "My friend’s favorite foods are roll\n",
            "My friend’s favorite foods are fired checken\n"
          ]
        }
      ]
    },
    {
      "cell_type": "code",
      "source": [],
      "metadata": {
        "id": "fS0GVnoYz5QL"
      },
      "execution_count": null,
      "outputs": []
    }
  ],
  "metadata": {
    "colab": {
      "collapsed_sections": [],
      "name": "Assignment-1.ipynb",
      "provenance": []
    },
    "kernelspec": {
      "display_name": "Python 3",
      "name": "python3"
    },
    "language_info": {
      "name": "python"
    }
  },
  "nbformat": 4,
  "nbformat_minor": 0
}