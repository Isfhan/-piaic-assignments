{
 "cells": [
  {
   "cell_type": "markdown",
   "metadata": {},
   "source": [
    "# KE Bill Generator"
   ]
  },
  {
   "cell_type": "code",
   "execution_count": 17,
   "metadata": {},
   "outputs": [],
   "source": [
    "\"\"\"\n",
    "In a statement, Nepra said that KE would collect the increase in electricity tariffs from the consumers in two months.\n",
    "It will charge Rs3. 01 per unit in electricity bills of August\n",
    "and Rs8. 09 per unit in electricity bills of September.12-Aug-2022\n",
    "\"\"\"\n",
    "\n",
    "def electricity(monthly_units):\n",
    "    charges = 0\n",
    "    if monthly_units >= 1 and monthly_units <= 100:\n",
    "        charges = 9.43\n",
    "    elif monthly_units >= 101 and monthly_units <= 200:\n",
    "        charges = 10.29\n",
    "    elif monthly_units >= 201 and monthly_units <= 300:\n",
    "        charges = 12.55\n",
    "    elif monthly_units >= 301 and monthly_units <= 400:\n",
    "        charges = 17.38\n",
    "    elif monthly_units >= 401 and monthly_units <= 500:\n",
    "        charges = 18.84\n",
    "    elif monthly_units >= 501 and monthly_units <= 600:\n",
    "        charges = 19.76\n",
    "    elif monthly_units >= 601 and monthly_units <= 700:\n",
    "        charges = 20.40\n",
    "    elif monthly_units >= 701:\n",
    "        charges = 23.87\n",
    "        \n",
    "    return charges * monthly_units\n",
    "    \n",
    "    "
   ]
  },
  {
   "cell_type": "code",
   "execution_count": 18,
   "metadata": {},
   "outputs": [],
   "source": [
    "def uniform(monthly_units):\n",
    "    return monthly_units * 0.5715"
   ]
  },
  {
   "cell_type": "code",
   "execution_count": 19,
   "metadata": {},
   "outputs": [],
   "source": [
    "def fuel(monthly_units):\n",
    "    return monthly_units * 250"
   ]
  },
  {
   "cell_type": "code",
   "execution_count": 20,
   "metadata": {},
   "outputs": [],
   "source": [
    "def sales_tax(electric_charges):\n",
    "    return int(0.17 * electric_charges)"
   ]
  },
  {
   "cell_type": "code",
   "execution_count": 23,
   "metadata": {},
   "outputs": [],
   "source": [
    "def advance(electric_charges):\n",
    "    return electric_charges * 3\n",
    "    "
   ]
  },
  {
   "cell_type": "code",
   "execution_count": 26,
   "metadata": {},
   "outputs": [],
   "source": [
    "def tv_fee(numeber_of_tv):\n",
    "    return 35 * numeber_of_tv"
   ]
  },
  {
   "cell_type": "code",
   "execution_count": 41,
   "metadata": {},
   "outputs": [],
   "source": [
    "def total_ammount(*ammount):\n",
    "    result=0\n",
    "    for i in ammount:\n",
    "         result=result+i\n",
    "    return int(result)"
   ]
  },
  {
   "cell_type": "code",
   "execution_count": 54,
   "metadata": {},
   "outputs": [],
   "source": [
    "def generate_bill(monthly_units):\n",
    "    \n",
    "    # calculate electric_charges\n",
    "    electric_charges = electricity(monthly_units)\n",
    "    print(\"\\n electric_charges for\", monthly_units , \"units = \" , electric_charges)\n",
    "    \n",
    "    \n",
    "    # calculate uniform_charges\n",
    "    uniform_charges = uniform(monthly_units)\n",
    "    print(\"\\n uniform_charges for\", monthly_units , \"units = \" , uniform_charges)\n",
    "\n",
    "    # calculate fuel_charges\n",
    "    fuel_charges = fuel(monthly_units)\n",
    "    print(\"\\n fuel_charges for\", monthly_units, \"units = \", fuel_charges)\n",
    "    \n",
    "    # calculate sales_tax\n",
    "    tax = sales_tax(electric_charges)\n",
    "    print(\"\\n sales_tax for\", monthly_units, \"units = \",tax)\n",
    "    \n",
    "    # calculate advance_tax\n",
    "    advance_tax = advance(electric_charges)\n",
    "    print(\"\\n advance_tax for\", monthly_units, \"units = \",advance_tax)\n",
    "    \n",
    "    # calculate tv_fee\n",
    "    tv = tv_fee(3)\n",
    "    print(\"\\n tv_fee for\", 3, \"tv = \",tv)\n",
    "    \n",
    "    # calculate total\n",
    "    total = total_ammount(electric_charges,uniform_charges,fuel_charges,tax,advance_tax,tv)\n",
    "    print(\"\\n total_ammount for\", monthly_units , \"units = \",total)\n",
    "    "
   ]
  },
  {
   "cell_type": "code",
   "execution_count": 55,
   "metadata": {},
   "outputs": [
    {
     "name": "stdout",
     "output_type": "stream",
     "text": [
      "\n",
      " electric_charges for 525 units =  10374.0\n",
      "\n",
      " uniform_charges for 525 units =  300.0375\n",
      "\n",
      " fuel_charges for 525 units =  131250\n",
      "\n",
      " sales_tax for 525 units =  1763\n",
      "\n",
      " advance_tax for 525 units =  31122.0\n",
      "\n",
      " tv_fee for 3 tv =  105\n",
      "\n",
      " total_ammount for 525 units =  174914\n"
     ]
    }
   ],
   "source": [
    "generate_bill(525)"
   ]
  },
  {
   "cell_type": "code",
   "execution_count": null,
   "metadata": {},
   "outputs": [],
   "source": []
  },
  {
   "cell_type": "code",
   "execution_count": null,
   "metadata": {},
   "outputs": [],
   "source": []
  }
 ],
 "metadata": {
  "kernelspec": {
   "display_name": "Python 3",
   "language": "python",
   "name": "python3"
  },
  "language_info": {
   "codemirror_mode": {
    "name": "ipython",
    "version": 3
   },
   "file_extension": ".py",
   "mimetype": "text/x-python",
   "name": "python",
   "nbconvert_exporter": "python",
   "pygments_lexer": "ipython3",
   "version": "3.7.3"
  }
 },
 "nbformat": 4,
 "nbformat_minor": 2
}
